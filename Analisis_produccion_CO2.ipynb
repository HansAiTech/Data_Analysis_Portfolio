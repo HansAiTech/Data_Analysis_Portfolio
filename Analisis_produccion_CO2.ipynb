{
  "cells": [
    {
      "cell_type": "markdown",
      "metadata": {
        "id": "view-in-github",
        "colab_type": "text"
      },
      "source": [
        "<a href=\"https://colab.research.google.com/github/HansAllTech/Hans_Data_Analysis_Portfolio/blob/main/Analisis_produccion_CO2.ipynb\" target=\"_parent\"><img src=\"https://colab.research.google.com/assets/colab-badge.svg\" alt=\"Open In Colab\"/></a>"
      ]
    },
    {
      "cell_type": "markdown",
      "metadata": {
        "id": "_nPBAjXRbv2S"
      },
      "source": [
        "# Proyecto"
      ]
    },
    {
      "cell_type": "markdown",
      "metadata": {
        "id": "3ESBuP7hf1Uh"
      },
      "source": [
        "En este proyecto se realizará un análisis exploratorio de las emisiones de CO2 mundiales de 231 países"
      ]
    },
    {
      "cell_type": "code",
      "execution_count": null,
      "metadata": {
        "id": "XsTw6hemMh4M"
      },
      "outputs": [],
      "source": [
        "\n",
        "import json\n",
        "\n",
        "with open('/content/drive/MyDrive/0. Unicorn Project 4.0/Python/Data_CO2_Proyecto_1.json') as f:\n",
        "    data = json.load(f)"
      ]
    },
    {
      "cell_type": "markdown",
      "source": [
        "### Analizando el dataset"
      ],
      "metadata": {
        "id": "JqBvQBS3gAvQ"
      }
    },
    {
      "cell_type": "code",
      "execution_count": null,
      "metadata": {
        "colab": {
          "base_uri": "https://localhost:8080/"
        },
        "id": "EMYfsaEhben0",
        "outputId": "e03321c0-ddd9-4483-f711-a5042a0673c5"
      },
      "outputs": [
        {
          "output_type": "execute_result",
          "data": {
            "text/plain": [
              "['Afghanistan',\n",
              " 'Afghanistan',\n",
              " 'Afghanistan',\n",
              " 'Afghanistan',\n",
              " 'Afghanistan',\n",
              " 'Afghanistan',\n",
              " 'Afghanistan',\n",
              " 'Afghanistan',\n",
              " 'Afghanistan',\n",
              " 'Afghanistan',\n",
              " 'Afghanistan',\n",
              " 'Afghanistan',\n",
              " 'Afghanistan',\n",
              " 'Afghanistan',\n",
              " 'Afghanistan',\n",
              " 'Afghanistan',\n",
              " 'Afghanistan',\n",
              " 'Afghanistan',\n",
              " 'Afghanistan',\n",
              " 'Afghanistan',\n",
              " 'Afghanistan',\n",
              " 'Afghanistan',\n",
              " 'Afghanistan',\n",
              " 'Afghanistan',\n",
              " 'Afghanistan',\n",
              " 'Afghanistan',\n",
              " 'Afghanistan',\n",
              " 'Afghanistan',\n",
              " 'Afghanistan',\n",
              " 'Afghanistan',\n",
              " 'Afghanistan',\n",
              " 'Afghanistan',\n",
              " 'Afghanistan',\n",
              " 'Afghanistan',\n",
              " 'Afghanistan',\n",
              " 'Afghanistan',\n",
              " 'Afghanistan',\n",
              " 'Afghanistan',\n",
              " 'Afghanistan',\n",
              " 'Afghanistan',\n",
              " 'Afghanistan',\n",
              " 'Afghanistan',\n",
              " 'Afghanistan',\n",
              " 'Afghanistan',\n",
              " 'Afghanistan',\n",
              " 'Afghanistan',\n",
              " 'Afghanistan',\n",
              " 'Afghanistan',\n",
              " 'Afghanistan',\n",
              " 'Afghanistan']"
            ]
          },
          "metadata": {},
          "execution_count": 9
        }
      ],
      "source": [
        "data['Country'][:50]"
      ]
    },
    {
      "cell_type": "markdown",
      "source": [
        "Analizamos los campos del dataset "
      ],
      "metadata": {
        "id": "qo1Zq6figayw"
      }
    },
    {
      "cell_type": "code",
      "execution_count": null,
      "metadata": {
        "colab": {
          "base_uri": "https://localhost:8080/"
        },
        "id": "Fp8IRNbOh3TX",
        "outputId": "0e8f3b90-4f3e-4268-eed3-d7b9247c2a1d"
      },
      "outputs": [
        {
          "data": {
            "text/plain": [
              "dict_keys(['Country', 'ISO 3166-1 alpha-3', 'Year', 'Total', 'Coal', 'Oil', 'Gas', 'Cement', 'Flaring', 'Other', 'Per Capita'])"
            ]
          },
          "execution_count": 10,
          "metadata": {},
          "output_type": "execute_result"
        }
      ],
      "source": [
        "data.keys()"
      ]
    },
    {
      "cell_type": "markdown",
      "metadata": {
        "id": "o9PhTHDpbtDK"
      },
      "source": []
    },
    {
      "cell_type": "markdown",
      "source": [
        "## Exploración de 'Country' y de 'ISO 3166-1 alpha-3'"
      ],
      "metadata": {
        "id": "bgu5CH8Ih1I1"
      }
    },
    {
      "cell_type": "markdown",
      "source": [
        "Visualizamos solo los países que no se repiten"
      ],
      "metadata": {
        "id": "3HnV38vigl_0"
      }
    },
    {
      "cell_type": "code",
      "source": [
        "set(data['Country'])"
      ],
      "metadata": {
        "colab": {
          "base_uri": "https://localhost:8080/"
        },
        "id": "0FaNt7hqgkGr",
        "outputId": "1d89ad4a-d273-41c1-b605-14c5d1ed92cd"
      },
      "execution_count": null,
      "outputs": [
        {
          "output_type": "execute_result",
          "data": {
            "text/plain": [
              "{'Afghanistan',\n",
              " 'Albania',\n",
              " 'Algeria',\n",
              " 'Andorra',\n",
              " 'Angola',\n",
              " 'Anguilla',\n",
              " 'Antarctica',\n",
              " 'Antigua and Barbuda',\n",
              " 'Argentina',\n",
              " 'Armenia',\n",
              " 'Aruba',\n",
              " 'Australia',\n",
              " 'Austria',\n",
              " 'Azerbaijan',\n",
              " 'Bahamas',\n",
              " 'Bahrain',\n",
              " 'Bangladesh',\n",
              " 'Barbados',\n",
              " 'Belarus',\n",
              " 'Belgium',\n",
              " 'Belize',\n",
              " 'Benin',\n",
              " 'Bermuda',\n",
              " 'Bhutan',\n",
              " 'Bolivia',\n",
              " 'Bonaire, Saint Eustatius and Saba',\n",
              " 'Bosnia and Herzegovina',\n",
              " 'Botswana',\n",
              " 'Brazil',\n",
              " 'British Virgin Islands',\n",
              " 'Brunei Darussalam',\n",
              " 'Bulgaria',\n",
              " 'Burkina Faso',\n",
              " 'Burundi',\n",
              " 'Cambodia',\n",
              " 'Cameroon',\n",
              " 'Canada',\n",
              " 'Cape Verde',\n",
              " 'Central African Republic',\n",
              " 'Chad',\n",
              " 'Chile',\n",
              " 'China',\n",
              " 'Christmas Island',\n",
              " 'Colombia',\n",
              " 'Comoros',\n",
              " 'Congo',\n",
              " 'Cook Islands',\n",
              " 'Costa Rica',\n",
              " 'Croatia',\n",
              " 'Cuba',\n",
              " 'Curaçao',\n",
              " 'Cyprus',\n",
              " 'Czech Republic',\n",
              " \"Côte d'Ivoire\",\n",
              " 'Democratic Republic of the Congo',\n",
              " 'Denmark',\n",
              " 'Djibouti',\n",
              " 'Dominica',\n",
              " 'Dominican Republic',\n",
              " 'Ecuador',\n",
              " 'Egypt',\n",
              " 'El Salvador',\n",
              " 'Equatorial Guinea',\n",
              " 'Eritrea',\n",
              " 'Estonia',\n",
              " 'Ethiopia',\n",
              " 'Faeroe Islands',\n",
              " 'Fiji',\n",
              " 'Finland',\n",
              " 'France',\n",
              " 'French Equatorial Africa',\n",
              " 'French Guiana',\n",
              " 'French Polynesia',\n",
              " 'French West Africa',\n",
              " 'Gabon',\n",
              " 'Gambia',\n",
              " 'Georgia',\n",
              " 'Germany',\n",
              " 'Ghana',\n",
              " 'Global',\n",
              " 'Greece',\n",
              " 'Greenland',\n",
              " 'Grenada',\n",
              " 'Guadeloupe',\n",
              " 'Guatemala',\n",
              " 'Guinea',\n",
              " 'Guinea-Bissau',\n",
              " 'Guyana',\n",
              " 'Haiti',\n",
              " 'Honduras',\n",
              " 'Hong Kong',\n",
              " 'Hungary',\n",
              " 'Iceland',\n",
              " 'India',\n",
              " 'Indonesia',\n",
              " 'International Transport',\n",
              " 'Iran',\n",
              " 'Iraq',\n",
              " 'Ireland',\n",
              " 'Israel',\n",
              " 'Italy',\n",
              " 'Jamaica',\n",
              " 'Japan',\n",
              " 'Jordan',\n",
              " 'Kazakhstan',\n",
              " 'Kenya',\n",
              " 'Kiribati',\n",
              " 'Kosovo',\n",
              " 'Kuwait',\n",
              " 'Kuwaiti Oil Fires',\n",
              " 'Kyrgyzstan',\n",
              " 'Laos',\n",
              " 'Latvia',\n",
              " 'Lebanon',\n",
              " 'Leeward Islands',\n",
              " 'Lesotho',\n",
              " 'Liberia',\n",
              " 'Libya',\n",
              " 'Liechtenstein',\n",
              " 'Lithuania',\n",
              " 'Luxembourg',\n",
              " 'Macao',\n",
              " 'Madagascar',\n",
              " 'Malawi',\n",
              " 'Malaysia',\n",
              " 'Maldives',\n",
              " 'Mali',\n",
              " 'Malta',\n",
              " 'Marshall Islands',\n",
              " 'Martinique',\n",
              " 'Mauritania',\n",
              " 'Mauritius',\n",
              " 'Mayotte',\n",
              " 'Mexico',\n",
              " 'Micronesia (Federated States of)',\n",
              " 'Moldova',\n",
              " 'Mongolia',\n",
              " 'Montenegro',\n",
              " 'Montserrat',\n",
              " 'Morocco',\n",
              " 'Mozambique',\n",
              " 'Myanmar',\n",
              " 'Namibia',\n",
              " 'Nauru',\n",
              " 'Nepal',\n",
              " 'Netherlands',\n",
              " 'New Caledonia',\n",
              " 'New Zealand',\n",
              " 'Nicaragua',\n",
              " 'Niger',\n",
              " 'Nigeria',\n",
              " 'Niue',\n",
              " 'North Korea',\n",
              " 'North Macedonia',\n",
              " 'Norway',\n",
              " 'Occupied Palestinian Territory',\n",
              " 'Oman',\n",
              " 'Pacific Islands (Palau)',\n",
              " 'Pakistan',\n",
              " 'Palau',\n",
              " 'Panama',\n",
              " 'Panama Canal Zone',\n",
              " 'Papua New Guinea',\n",
              " 'Paraguay',\n",
              " 'Peru',\n",
              " 'Philippines',\n",
              " 'Poland',\n",
              " 'Portugal',\n",
              " 'Puerto Rico',\n",
              " 'Qatar',\n",
              " 'Romania',\n",
              " 'Russia',\n",
              " 'Rwanda',\n",
              " 'Ryukyu Islands',\n",
              " 'Réunion',\n",
              " 'Saint Helena',\n",
              " 'Saint Kitts and Nevis',\n",
              " 'Saint Lucia',\n",
              " 'Saint Pierre and Miquelon',\n",
              " 'Saint Vincent and the Grenadines',\n",
              " 'Samoa',\n",
              " 'Sao Tome and Principe',\n",
              " 'Saudi Arabia',\n",
              " 'Senegal',\n",
              " 'Serbia',\n",
              " 'Seychelles',\n",
              " 'Sierra Leone',\n",
              " 'Singapore',\n",
              " 'Sint Maarten (Dutch part)',\n",
              " 'Slovakia',\n",
              " 'Slovenia',\n",
              " 'Solomon Islands',\n",
              " 'Somalia',\n",
              " 'South Africa',\n",
              " 'South Korea',\n",
              " 'South Sudan',\n",
              " 'Spain',\n",
              " 'Sri Lanka',\n",
              " 'St. Kitts-Nevis-Anguilla',\n",
              " 'Sudan',\n",
              " 'Suriname',\n",
              " 'Swaziland',\n",
              " 'Sweden',\n",
              " 'Switzerland',\n",
              " 'Syria',\n",
              " 'Taiwan',\n",
              " 'Tajikistan',\n",
              " 'Tanzania',\n",
              " 'Thailand',\n",
              " 'Timor-Leste',\n",
              " 'Togo',\n",
              " 'Tonga',\n",
              " 'Trinidad and Tobago',\n",
              " 'Tunisia',\n",
              " 'Turkey',\n",
              " 'Turkmenistan',\n",
              " 'Turks and Caicos Islands',\n",
              " 'Tuvalu',\n",
              " 'USA',\n",
              " 'Uganda',\n",
              " 'Ukraine',\n",
              " 'United Arab Emirates',\n",
              " 'United Kingdom',\n",
              " 'Uruguay',\n",
              " 'Uzbekistan',\n",
              " 'Vanuatu',\n",
              " 'Venezuela',\n",
              " 'Viet Nam',\n",
              " 'Wallis and Futuna Islands',\n",
              " 'Yemen',\n",
              " 'Zambia',\n",
              " 'Zimbabwe'}"
            ]
          },
          "metadata": {},
          "execution_count": 10
        }
      ]
    },
    {
      "cell_type": "markdown",
      "source": [
        "Observamos que el campo 'ISO 3166-1 alpha-3' también nos muestra los países pero con un abreviación de 3 letras"
      ],
      "metadata": {
        "id": "anJsrzKEiEMY"
      }
    },
    {
      "cell_type": "code",
      "source": [
        "set(data['ISO 3166-1 alpha-3'])"
      ],
      "metadata": {
        "colab": {
          "base_uri": "https://localhost:8080/"
        },
        "id": "wPlyaqeBiBJS",
        "outputId": "729282e9-ef95-4ef9-f631-32cf1797348d"
      },
      "execution_count": null,
      "outputs": [
        {
          "output_type": "execute_result",
          "data": {
            "text/plain": [
              "{0,\n",
              " 'ABW',\n",
              " 'AFG',\n",
              " 'AGO',\n",
              " 'AIA',\n",
              " 'ALB',\n",
              " 'AND',\n",
              " 'ARE',\n",
              " 'ARG',\n",
              " 'ARM',\n",
              " 'ATA',\n",
              " 'ATG',\n",
              " 'AUS',\n",
              " 'AUT',\n",
              " 'AZE',\n",
              " 'BDI',\n",
              " 'BEL',\n",
              " 'BEN',\n",
              " 'BES',\n",
              " 'BFA',\n",
              " 'BGD',\n",
              " 'BGR',\n",
              " 'BHR',\n",
              " 'BHS',\n",
              " 'BIH',\n",
              " 'BLR',\n",
              " 'BLZ',\n",
              " 'BMU',\n",
              " 'BOL',\n",
              " 'BRA',\n",
              " 'BRB',\n",
              " 'BRN',\n",
              " 'BTN',\n",
              " 'BWA',\n",
              " 'CAF',\n",
              " 'CAN',\n",
              " 'CHE',\n",
              " 'CHL',\n",
              " 'CHN',\n",
              " 'CIV',\n",
              " 'CMR',\n",
              " 'COD',\n",
              " 'COG',\n",
              " 'COK',\n",
              " 'COL',\n",
              " 'COM',\n",
              " 'CPV',\n",
              " 'CRI',\n",
              " 'CUB',\n",
              " 'CUW',\n",
              " 'CXR',\n",
              " 'CYP',\n",
              " 'CZE',\n",
              " 'DEU',\n",
              " 'DJI',\n",
              " 'DMA',\n",
              " 'DNK',\n",
              " 'DOM',\n",
              " 'DZA',\n",
              " 'ECU',\n",
              " 'EGY',\n",
              " 'ERI',\n",
              " 'ESP',\n",
              " 'EST',\n",
              " 'ETH',\n",
              " 'FIN',\n",
              " 'FJI',\n",
              " 'FRA',\n",
              " 'FRO',\n",
              " 'FSM',\n",
              " 'GAB',\n",
              " 'GBR',\n",
              " 'GEO',\n",
              " 'GHA',\n",
              " 'GIN',\n",
              " 'GLP',\n",
              " 'GMB',\n",
              " 'GNB',\n",
              " 'GNQ',\n",
              " 'GRC',\n",
              " 'GRD',\n",
              " 'GRL',\n",
              " 'GTM',\n",
              " 'GUF',\n",
              " 'GUY',\n",
              " 'HKG',\n",
              " 'HND',\n",
              " 'HRV',\n",
              " 'HTI',\n",
              " 'HUN',\n",
              " 'IDN',\n",
              " 'IND',\n",
              " 'IRL',\n",
              " 'IRN',\n",
              " 'IRQ',\n",
              " 'ISL',\n",
              " 'ISR',\n",
              " 'ITA',\n",
              " 'JAM',\n",
              " 'JOR',\n",
              " 'JPN',\n",
              " 'KAZ',\n",
              " 'KEN',\n",
              " 'KGZ',\n",
              " 'KHM',\n",
              " 'KIR',\n",
              " 'KNA',\n",
              " 'KOR',\n",
              " 'KSV',\n",
              " 'KWT',\n",
              " 'LAO',\n",
              " 'LBN',\n",
              " 'LBR',\n",
              " 'LBY',\n",
              " 'LCA',\n",
              " 'LIE',\n",
              " 'LKA',\n",
              " 'LSO',\n",
              " 'LTU',\n",
              " 'LUX',\n",
              " 'LVA',\n",
              " 'MAC',\n",
              " 'MAR',\n",
              " 'MDA',\n",
              " 'MDG',\n",
              " 'MDV',\n",
              " 'MEX',\n",
              " 'MHL',\n",
              " 'MKD',\n",
              " 'MLI',\n",
              " 'MLT',\n",
              " 'MMR',\n",
              " 'MNE',\n",
              " 'MNG',\n",
              " 'MOZ',\n",
              " 'MRT',\n",
              " 'MSR',\n",
              " 'MTQ',\n",
              " 'MUS',\n",
              " 'MWI',\n",
              " 'MYS',\n",
              " 'MYT',\n",
              " 'NAM',\n",
              " 'NCL',\n",
              " 'NER',\n",
              " 'NGA',\n",
              " 'NIC',\n",
              " 'NIU',\n",
              " 'NLD',\n",
              " 'NOR',\n",
              " 'NPL',\n",
              " 'NRU',\n",
              " 'NZL',\n",
              " 'OMN',\n",
              " 'PAK',\n",
              " 'PAN',\n",
              " 'PCZ',\n",
              " 'PER',\n",
              " 'PHL',\n",
              " 'PLW',\n",
              " 'PNG',\n",
              " 'POL',\n",
              " 'PRI',\n",
              " 'PRK',\n",
              " 'PRT',\n",
              " 'PRY',\n",
              " 'PSE',\n",
              " 'PYF',\n",
              " 'QAT',\n",
              " 'REU',\n",
              " 'ROU',\n",
              " 'RUS',\n",
              " 'RWA',\n",
              " 'SAU',\n",
              " 'SDN',\n",
              " 'SEN',\n",
              " 'SGP',\n",
              " 'SHN',\n",
              " 'SLB',\n",
              " 'SLE',\n",
              " 'SLV',\n",
              " 'SOM',\n",
              " 'SPM',\n",
              " 'SRB',\n",
              " 'SSD',\n",
              " 'STP',\n",
              " 'SUR',\n",
              " 'SVK',\n",
              " 'SVN',\n",
              " 'SWE',\n",
              " 'SWZ',\n",
              " 'SXM',\n",
              " 'SYC',\n",
              " 'SYR',\n",
              " 'TCA',\n",
              " 'TCD',\n",
              " 'TGO',\n",
              " 'THA',\n",
              " 'TJK',\n",
              " 'TKM',\n",
              " 'TLS',\n",
              " 'TON',\n",
              " 'TTO',\n",
              " 'TUN',\n",
              " 'TUR',\n",
              " 'TUV',\n",
              " 'TWN',\n",
              " 'TZA',\n",
              " 'UGA',\n",
              " 'UKR',\n",
              " 'URY',\n",
              " 'USA',\n",
              " 'UZB',\n",
              " 'VCT',\n",
              " 'VEN',\n",
              " 'VGB',\n",
              " 'VNM',\n",
              " 'VUT',\n",
              " 'WLD',\n",
              " 'WLF',\n",
              " 'WSM',\n",
              " 'XIT',\n",
              " 'YEM',\n",
              " 'ZAF',\n",
              " 'ZMB',\n",
              " 'ZWE'}"
            ]
          },
          "metadata": {},
          "execution_count": 12
        }
      ]
    },
    {
      "cell_type": "markdown",
      "source": [
        "Calculamos la cantidad de países analizados"
      ],
      "metadata": {
        "id": "XjfgQA2cgxXK"
      }
    },
    {
      "cell_type": "code",
      "source": [
        "len(set(data['Country']))"
      ],
      "metadata": {
        "colab": {
          "base_uri": "https://localhost:8080/"
        },
        "id": "FfxikoAYkQkf",
        "outputId": "cff073ca-45b0-4f9f-d521-06e609706368"
      },
      "execution_count": null,
      "outputs": [
        {
          "output_type": "execute_result",
          "data": {
            "text/plain": [
              "232"
            ]
          },
          "metadata": {},
          "execution_count": 15
        }
      ]
    },
    {
      "cell_type": "code",
      "source": [
        "len(set(data['ISO 3166-1 alpha-3']))"
      ],
      "metadata": {
        "colab": {
          "base_uri": "https://localhost:8080/"
        },
        "id": "0K-jNTqaiz5i",
        "outputId": "f197298f-4a1b-4b51-b6eb-6464a599d871"
      },
      "execution_count": null,
      "outputs": [
        {
          "output_type": "execute_result",
          "data": {
            "text/plain": [
              "226"
            ]
          },
          "metadata": {},
          "execution_count": 14
        }
      ]
    },
    {
      "cell_type": "markdown",
      "source": [
        "Se puede observar que hay una diferencia en la longitud de ambos campos"
      ],
      "metadata": {
        "id": "qMUXohRjkW37"
      }
    },
    {
      "cell_type": "code",
      "source": [
        "# Utilizaremos la función zip para combinar los dos campos\n",
        "diccionario_paises = zip(data['ISO 3166-1 alpha-3'], data['Country'])"
      ],
      "metadata": {
        "id": "Se4hN5WSkmx9"
      },
      "execution_count": null,
      "outputs": []
    },
    {
      "cell_type": "code",
      "source": [
        "diccionario_paises"
      ],
      "metadata": {
        "colab": {
          "base_uri": "https://localhost:8080/"
        },
        "id": "0A-Hr2d8kpQ2",
        "outputId": "980c65ac-8804-4483-b19a-2aa394c5136d"
      },
      "execution_count": null,
      "outputs": [
        {
          "output_type": "execute_result",
          "data": {
            "text/plain": [
              "<zip at 0x7fb3b131d740>"
            ]
          },
          "metadata": {},
          "execution_count": 17
        }
      ]
    },
    {
      "cell_type": "code",
      "source": [
        "#U tilizaremos un diccionarios para observar mejor el campo combinado\n",
        "diccionario_paises = dict(diccionario_paises)"
      ],
      "metadata": {
        "id": "-4YKW2cTk3mQ"
      },
      "execution_count": null,
      "outputs": []
    },
    {
      "cell_type": "code",
      "source": [
        "diccionario_paises"
      ],
      "metadata": {
        "colab": {
          "base_uri": "https://localhost:8080/"
        },
        "id": "KZwnLFY0k5Cd",
        "outputId": "d0a9d0d6-85d4-40eb-e0e6-70f350c235c5"
      },
      "execution_count": null,
      "outputs": [
        {
          "output_type": "execute_result",
          "data": {
            "text/plain": [
              "{'AFG': 'Afghanistan',\n",
              " 'ALB': 'Albania',\n",
              " 'DZA': 'Algeria',\n",
              " 'AND': 'Andorra',\n",
              " 'AGO': 'Angola',\n",
              " 'AIA': 'Anguilla',\n",
              " 'ATA': 'Antarctica',\n",
              " 'ATG': 'Antigua and Barbuda',\n",
              " 'ARG': 'Argentina',\n",
              " 'ARM': 'Armenia',\n",
              " 'ABW': 'Aruba',\n",
              " 'AUS': 'Australia',\n",
              " 'AUT': 'Austria',\n",
              " 'AZE': 'Azerbaijan',\n",
              " 'BHS': 'Bahamas',\n",
              " 'BHR': 'Bahrain',\n",
              " 'BGD': 'Bangladesh',\n",
              " 'BRB': 'Barbados',\n",
              " 'BLR': 'Belarus',\n",
              " 'BEL': 'Belgium',\n",
              " 'BLZ': 'Belize',\n",
              " 'BEN': 'Benin',\n",
              " 'BMU': 'Bermuda',\n",
              " 'BTN': 'Bhutan',\n",
              " 'BES': 'Bonaire, Saint Eustatius and Saba',\n",
              " 'BIH': 'Bosnia and Herzegovina',\n",
              " 'BWA': 'Botswana',\n",
              " 'BRA': 'Brazil',\n",
              " 'VGB': 'British Virgin Islands',\n",
              " 'BRN': 'Brunei Darussalam',\n",
              " 'BGR': 'Bulgaria',\n",
              " 'BFA': 'Burkina Faso',\n",
              " 'BDI': 'Burundi',\n",
              " 'KHM': 'Cambodia',\n",
              " 'CAN': 'Canada',\n",
              " 'CPV': 'Cape Verde',\n",
              " 'CAF': 'Central African Republic',\n",
              " 'TCD': 'Chad',\n",
              " 'CHL': 'Chile',\n",
              " 'CHN': 'China',\n",
              " 'CXR': 'Christmas Island',\n",
              " 'COL': 'Colombia',\n",
              " 'COM': 'Comoros',\n",
              " 'COG': 'Congo',\n",
              " 'COK': 'Cook Islands',\n",
              " 'CRI': 'Costa Rica',\n",
              " 'CIV': \"Côte d'Ivoire\",\n",
              " 'HRV': 'Croatia',\n",
              " 'CUB': 'Cuba',\n",
              " 'CUW': 'Curaçao',\n",
              " 'CYP': 'Cyprus',\n",
              " 'CZE': 'Czech Republic',\n",
              " 'PRK': 'North Korea',\n",
              " 'COD': 'Democratic Republic of the Congo',\n",
              " 'DNK': 'Denmark',\n",
              " 'DJI': 'Djibouti',\n",
              " 'DMA': 'Dominica',\n",
              " 'DOM': 'Dominican Republic',\n",
              " 'ECU': 'Ecuador',\n",
              " 'EGY': 'Egypt',\n",
              " 'SLV': 'El Salvador',\n",
              " 'GNQ': 'Equatorial Guinea',\n",
              " 'ERI': 'Eritrea',\n",
              " 'EST': 'Estonia',\n",
              " 'ETH': 'Ethiopia',\n",
              " 'FRO': 'Faeroe Islands',\n",
              " 'FSM': 'Micronesia (Federated States of)',\n",
              " 'FJI': 'Fiji',\n",
              " 'FIN': 'Finland',\n",
              " 'PCZ': 'Panama Canal Zone',\n",
              " 'FRA': 'France',\n",
              " 0: 'Ryukyu Islands',\n",
              " 'GUF': 'French Guiana',\n",
              " 'PYF': 'French Polynesia',\n",
              " 'GAB': 'Gabon',\n",
              " 'GMB': 'Gambia',\n",
              " 'GEO': 'Georgia',\n",
              " 'DEU': 'Germany',\n",
              " 'GHA': 'Ghana',\n",
              " 'GRC': 'Greece',\n",
              " 'GRL': 'Greenland',\n",
              " 'GRD': 'Grenada',\n",
              " 'GLP': 'Guadeloupe',\n",
              " 'GTM': 'Guatemala',\n",
              " 'GIN': 'Guinea',\n",
              " 'GNB': 'Guinea-Bissau',\n",
              " 'GUY': 'Guyana',\n",
              " 'HTI': 'Haiti',\n",
              " 'HND': 'Honduras',\n",
              " 'HKG': 'Hong Kong',\n",
              " 'HUN': 'Hungary',\n",
              " 'ISL': 'Iceland',\n",
              " 'IND': 'India',\n",
              " 'IDN': 'Indonesia',\n",
              " 'IRQ': 'Iraq',\n",
              " 'IRL': 'Ireland',\n",
              " 'IRN': 'Iran',\n",
              " 'ISR': 'Israel',\n",
              " 'ITA': 'Italy',\n",
              " 'JAM': 'Jamaica',\n",
              " 'JPN': 'Japan',\n",
              " 'JOR': 'Jordan',\n",
              " 'KAZ': 'Kazakhstan',\n",
              " 'KEN': 'Kenya',\n",
              " 'KIR': 'Kiribati',\n",
              " 'KSV': 'Kosovo',\n",
              " 'KWT': 'Kuwait',\n",
              " 'KGZ': 'Kyrgyzstan',\n",
              " 'LAO': 'Laos',\n",
              " 'LVA': 'Latvia',\n",
              " 'LBN': 'Lebanon',\n",
              " 'LSO': 'Lesotho',\n",
              " 'LBR': 'Liberia',\n",
              " 'LBY': 'Libya',\n",
              " 'LIE': 'Liechtenstein',\n",
              " 'LTU': 'Lithuania',\n",
              " 'LUX': 'Luxembourg',\n",
              " 'MAC': 'Macao',\n",
              " 'MKD': 'North Macedonia',\n",
              " 'MDG': 'Madagascar',\n",
              " 'MWI': 'Malawi',\n",
              " 'MYS': 'Malaysia',\n",
              " 'MDV': 'Maldives',\n",
              " 'MLI': 'Mali',\n",
              " 'MLT': 'Malta',\n",
              " 'MHL': 'Marshall Islands',\n",
              " 'MTQ': 'Martinique',\n",
              " 'MRT': 'Mauritania',\n",
              " 'MUS': 'Mauritius',\n",
              " 'MYT': 'Mayotte',\n",
              " 'MEX': 'Mexico',\n",
              " 'MNG': 'Mongolia',\n",
              " 'MNE': 'Montenegro',\n",
              " 'MSR': 'Montserrat',\n",
              " 'MAR': 'Morocco',\n",
              " 'MOZ': 'Mozambique',\n",
              " 'MMR': 'Myanmar',\n",
              " 'NAM': 'Namibia',\n",
              " 'NRU': 'Nauru',\n",
              " 'NPL': 'Nepal',\n",
              " 'NLD': 'Netherlands',\n",
              " 'NCL': 'New Caledonia',\n",
              " 'NZL': 'New Zealand',\n",
              " 'NIC': 'Nicaragua',\n",
              " 'NER': 'Niger',\n",
              " 'NGA': 'Nigeria',\n",
              " 'NIU': 'Niue',\n",
              " 'NOR': 'Norway',\n",
              " 'PSE': 'Occupied Palestinian Territory',\n",
              " 'OMN': 'Oman',\n",
              " 'PAK': 'Pakistan',\n",
              " 'PLW': 'Palau',\n",
              " 'PAN': 'Panama',\n",
              " 'PNG': 'Papua New Guinea',\n",
              " 'PRY': 'Paraguay',\n",
              " 'PER': 'Peru',\n",
              " 'PHL': 'Philippines',\n",
              " 'BOL': 'Bolivia',\n",
              " 'POL': 'Poland',\n",
              " 'PRT': 'Portugal',\n",
              " 'PRI': 'Puerto Rico',\n",
              " 'QAT': 'Qatar',\n",
              " 'CMR': 'Cameroon',\n",
              " 'KOR': 'South Korea',\n",
              " 'MDA': 'Moldova',\n",
              " 'SSD': 'South Sudan',\n",
              " 'SDN': 'Sudan',\n",
              " 'REU': 'Réunion',\n",
              " 'ROU': 'Romania',\n",
              " 'RUS': 'Russia',\n",
              " 'RWA': 'Rwanda',\n",
              " 'SHN': 'Saint Helena',\n",
              " 'LCA': 'Saint Lucia',\n",
              " 'SXM': 'Sint Maarten (Dutch part)',\n",
              " 'WSM': 'Samoa',\n",
              " 'STP': 'Sao Tome and Principe',\n",
              " 'SAU': 'Saudi Arabia',\n",
              " 'SEN': 'Senegal',\n",
              " 'SRB': 'Serbia',\n",
              " 'SYC': 'Seychelles',\n",
              " 'SLE': 'Sierra Leone',\n",
              " 'SGP': 'Singapore',\n",
              " 'SVK': 'Slovakia',\n",
              " 'SVN': 'Slovenia',\n",
              " 'SLB': 'Solomon Islands',\n",
              " 'SOM': 'Somalia',\n",
              " 'ZAF': 'South Africa',\n",
              " 'ESP': 'Spain',\n",
              " 'LKA': 'Sri Lanka',\n",
              " 'KNA': 'St. Kitts-Nevis-Anguilla',\n",
              " 'SPM': 'Saint Pierre and Miquelon',\n",
              " 'VCT': 'Saint Vincent and the Grenadines',\n",
              " 'SUR': 'Suriname',\n",
              " 'SWZ': 'Swaziland',\n",
              " 'SWE': 'Sweden',\n",
              " 'CHE': 'Switzerland',\n",
              " 'SYR': 'Syria',\n",
              " 'TWN': 'Taiwan',\n",
              " 'TJK': 'Tajikistan',\n",
              " 'THA': 'Thailand',\n",
              " 'TLS': 'Timor-Leste',\n",
              " 'TGO': 'Togo',\n",
              " 'TON': 'Tonga',\n",
              " 'TTO': 'Trinidad and Tobago',\n",
              " 'TUN': 'Tunisia',\n",
              " 'TUR': 'Turkey',\n",
              " 'TKM': 'Turkmenistan',\n",
              " 'TCA': 'Turks and Caicos Islands',\n",
              " 'TUV': 'Tuvalu',\n",
              " 'UGA': 'Uganda',\n",
              " 'UKR': 'Ukraine',\n",
              " 'ARE': 'United Arab Emirates',\n",
              " 'GBR': 'United Kingdom',\n",
              " 'TZA': 'Tanzania',\n",
              " 'USA': 'USA',\n",
              " 'URY': 'Uruguay',\n",
              " 'UZB': 'Uzbekistan',\n",
              " 'VUT': 'Vanuatu',\n",
              " 'VEN': 'Venezuela',\n",
              " 'VNM': 'Viet Nam',\n",
              " 'WLF': 'Wallis and Futuna Islands',\n",
              " 'YEM': 'Yemen',\n",
              " 'ZMB': 'Zambia',\n",
              " 'ZWE': 'Zimbabwe',\n",
              " 'XIT': 'International Transport',\n",
              " 'WLD': 'Global'}"
            ]
          },
          "metadata": {},
          "execution_count": 19
        }
      ]
    },
    {
      "cell_type": "code",
      "source": [
        "# Se puede observar que hay una clave-valor 0:Ryukyu Islands \n",
        "diccionario_paises[0]"
      ],
      "metadata": {
        "colab": {
          "base_uri": "https://localhost:8080/",
          "height": 36
        },
        "id": "FtEjb6JHlF0K",
        "outputId": "3e543729-0831-44df-f28e-3256f13733d0"
      },
      "execution_count": null,
      "outputs": [
        {
          "output_type": "execute_result",
          "data": {
            "text/plain": [
              "'Ryukyu Islands'"
            ],
            "application/vnd.google.colaboratory.intrinsic+json": {
              "type": "string"
            }
          },
          "metadata": {},
          "execution_count": 20
        }
      ]
    },
    {
      "cell_type": "code",
      "source": [
        "# Calculamos la cantidad de elementos de la clave 0\n",
        "len(diccionario_paises[0])"
      ],
      "metadata": {
        "colab": {
          "base_uri": "https://localhost:8080/"
        },
        "id": "HKq30lOaldkT",
        "outputId": "742b3659-f994-4df8-bb8f-ebcec33236a2"
      },
      "execution_count": null,
      "outputs": [
        {
          "output_type": "execute_result",
          "data": {
            "text/plain": [
              "14"
            ]
          },
          "metadata": {},
          "execution_count": 21
        }
      ]
    },
    {
      "cell_type": "markdown",
      "source": [
        "## Exploramos 'Year'"
      ],
      "metadata": {
        "id": "7QTSXN8umang"
      }
    },
    {
      "cell_type": "markdown",
      "source": [
        "Los años son consecutivos, parece que tenemos los datos estructurados por país y año"
      ],
      "metadata": {
        "id": "yR-rl5mcmu_I"
      }
    },
    {
      "cell_type": "code",
      "source": [
        "data['Year'][:25]"
      ],
      "metadata": {
        "colab": {
          "base_uri": "https://localhost:8080/"
        },
        "id": "KZvmjUfOm7c0",
        "outputId": "ca9bf5b4-6c1c-47db-e642-856bee93b61e"
      },
      "execution_count": null,
      "outputs": [
        {
          "output_type": "execute_result",
          "data": {
            "text/plain": [
              "[1750,\n",
              " 1751,\n",
              " 1752,\n",
              " 1753,\n",
              " 1754,\n",
              " 1755,\n",
              " 1756,\n",
              " 1757,\n",
              " 1758,\n",
              " 1759,\n",
              " 1760,\n",
              " 1761,\n",
              " 1762,\n",
              " 1763,\n",
              " 1764,\n",
              " 1765,\n",
              " 1766,\n",
              " 1767,\n",
              " 1768,\n",
              " 1769,\n",
              " 1770,\n",
              " 1771,\n",
              " 1772,\n",
              " 1773,\n",
              " 1774]"
            ]
          },
          "metadata": {},
          "execution_count": 23
        }
      ]
    },
    {
      "cell_type": "code",
      "source": [
        "data['Year'][-25:]"
      ],
      "metadata": {
        "colab": {
          "base_uri": "https://localhost:8080/"
        },
        "id": "gVjGHMLnnBeF",
        "outputId": "1659422d-744e-4259-be07-665abc81c8e0"
      },
      "execution_count": null,
      "outputs": [
        {
          "output_type": "execute_result",
          "data": {
            "text/plain": [
              "[1997,\n",
              " 1998,\n",
              " 1999,\n",
              " 2000,\n",
              " 2001,\n",
              " 2002,\n",
              " 2003,\n",
              " 2004,\n",
              " 2005,\n",
              " 2006,\n",
              " 2007,\n",
              " 2008,\n",
              " 2009,\n",
              " 2010,\n",
              " 2011,\n",
              " 2012,\n",
              " 2013,\n",
              " 2014,\n",
              " 2015,\n",
              " 2016,\n",
              " 2017,\n",
              " 2018,\n",
              " 2019,\n",
              " 2020,\n",
              " 2021]"
            ]
          },
          "metadata": {},
          "execution_count": 28
        }
      ]
    },
    {
      "cell_type": "code",
      "source": [
        "set(data['Year'])"
      ],
      "metadata": {
        "colab": {
          "base_uri": "https://localhost:8080/"
        },
        "id": "8wCQ_0ZQnpAQ",
        "outputId": "b8e8fa20-9826-4d91-d4b5-13963487ce1f"
      },
      "execution_count": null,
      "outputs": [
        {
          "output_type": "execute_result",
          "data": {
            "text/plain": [
              "{1750,\n",
              " 1751,\n",
              " 1752,\n",
              " 1753,\n",
              " 1754,\n",
              " 1755,\n",
              " 1756,\n",
              " 1757,\n",
              " 1758,\n",
              " 1759,\n",
              " 1760,\n",
              " 1761,\n",
              " 1762,\n",
              " 1763,\n",
              " 1764,\n",
              " 1765,\n",
              " 1766,\n",
              " 1767,\n",
              " 1768,\n",
              " 1769,\n",
              " 1770,\n",
              " 1771,\n",
              " 1772,\n",
              " 1773,\n",
              " 1774,\n",
              " 1775,\n",
              " 1776,\n",
              " 1777,\n",
              " 1778,\n",
              " 1779,\n",
              " 1780,\n",
              " 1781,\n",
              " 1782,\n",
              " 1783,\n",
              " 1784,\n",
              " 1785,\n",
              " 1786,\n",
              " 1787,\n",
              " 1788,\n",
              " 1789,\n",
              " 1790,\n",
              " 1791,\n",
              " 1792,\n",
              " 1793,\n",
              " 1794,\n",
              " 1795,\n",
              " 1796,\n",
              " 1797,\n",
              " 1798,\n",
              " 1799,\n",
              " 1800,\n",
              " 1801,\n",
              " 1802,\n",
              " 1803,\n",
              " 1804,\n",
              " 1805,\n",
              " 1806,\n",
              " 1807,\n",
              " 1808,\n",
              " 1809,\n",
              " 1810,\n",
              " 1811,\n",
              " 1812,\n",
              " 1813,\n",
              " 1814,\n",
              " 1815,\n",
              " 1816,\n",
              " 1817,\n",
              " 1818,\n",
              " 1819,\n",
              " 1820,\n",
              " 1821,\n",
              " 1822,\n",
              " 1823,\n",
              " 1824,\n",
              " 1825,\n",
              " 1826,\n",
              " 1827,\n",
              " 1828,\n",
              " 1829,\n",
              " 1830,\n",
              " 1831,\n",
              " 1832,\n",
              " 1833,\n",
              " 1834,\n",
              " 1835,\n",
              " 1836,\n",
              " 1837,\n",
              " 1838,\n",
              " 1839,\n",
              " 1840,\n",
              " 1841,\n",
              " 1842,\n",
              " 1843,\n",
              " 1844,\n",
              " 1845,\n",
              " 1846,\n",
              " 1847,\n",
              " 1848,\n",
              " 1849,\n",
              " 1850,\n",
              " 1851,\n",
              " 1852,\n",
              " 1853,\n",
              " 1854,\n",
              " 1855,\n",
              " 1856,\n",
              " 1857,\n",
              " 1858,\n",
              " 1859,\n",
              " 1860,\n",
              " 1861,\n",
              " 1862,\n",
              " 1863,\n",
              " 1864,\n",
              " 1865,\n",
              " 1866,\n",
              " 1867,\n",
              " 1868,\n",
              " 1869,\n",
              " 1870,\n",
              " 1871,\n",
              " 1872,\n",
              " 1873,\n",
              " 1874,\n",
              " 1875,\n",
              " 1876,\n",
              " 1877,\n",
              " 1878,\n",
              " 1879,\n",
              " 1880,\n",
              " 1881,\n",
              " 1882,\n",
              " 1883,\n",
              " 1884,\n",
              " 1885,\n",
              " 1886,\n",
              " 1887,\n",
              " 1888,\n",
              " 1889,\n",
              " 1890,\n",
              " 1891,\n",
              " 1892,\n",
              " 1893,\n",
              " 1894,\n",
              " 1895,\n",
              " 1896,\n",
              " 1897,\n",
              " 1898,\n",
              " 1899,\n",
              " 1900,\n",
              " 1901,\n",
              " 1902,\n",
              " 1903,\n",
              " 1904,\n",
              " 1905,\n",
              " 1906,\n",
              " 1907,\n",
              " 1908,\n",
              " 1909,\n",
              " 1910,\n",
              " 1911,\n",
              " 1912,\n",
              " 1913,\n",
              " 1914,\n",
              " 1915,\n",
              " 1916,\n",
              " 1917,\n",
              " 1918,\n",
              " 1919,\n",
              " 1920,\n",
              " 1921,\n",
              " 1922,\n",
              " 1923,\n",
              " 1924,\n",
              " 1925,\n",
              " 1926,\n",
              " 1927,\n",
              " 1928,\n",
              " 1929,\n",
              " 1930,\n",
              " 1931,\n",
              " 1932,\n",
              " 1933,\n",
              " 1934,\n",
              " 1935,\n",
              " 1936,\n",
              " 1937,\n",
              " 1938,\n",
              " 1939,\n",
              " 1940,\n",
              " 1941,\n",
              " 1942,\n",
              " 1943,\n",
              " 1944,\n",
              " 1945,\n",
              " 1946,\n",
              " 1947,\n",
              " 1948,\n",
              " 1949,\n",
              " 1950,\n",
              " 1951,\n",
              " 1952,\n",
              " 1953,\n",
              " 1954,\n",
              " 1955,\n",
              " 1956,\n",
              " 1957,\n",
              " 1958,\n",
              " 1959,\n",
              " 1960,\n",
              " 1961,\n",
              " 1962,\n",
              " 1963,\n",
              " 1964,\n",
              " 1965,\n",
              " 1966,\n",
              " 1967,\n",
              " 1968,\n",
              " 1969,\n",
              " 1970,\n",
              " 1971,\n",
              " 1972,\n",
              " 1973,\n",
              " 1974,\n",
              " 1975,\n",
              " 1976,\n",
              " 1977,\n",
              " 1978,\n",
              " 1979,\n",
              " 1980,\n",
              " 1981,\n",
              " 1982,\n",
              " 1983,\n",
              " 1984,\n",
              " 1985,\n",
              " 1986,\n",
              " 1987,\n",
              " 1988,\n",
              " 1989,\n",
              " 1990,\n",
              " 1991,\n",
              " 1992,\n",
              " 1993,\n",
              " 1994,\n",
              " 1995,\n",
              " 1996,\n",
              " 1997,\n",
              " 1998,\n",
              " 1999,\n",
              " 2000,\n",
              " 2001,\n",
              " 2002,\n",
              " 2003,\n",
              " 2004,\n",
              " 2005,\n",
              " 2006,\n",
              " 2007,\n",
              " 2008,\n",
              " 2009,\n",
              " 2010,\n",
              " 2011,\n",
              " 2012,\n",
              " 2013,\n",
              " 2014,\n",
              " 2015,\n",
              " 2016,\n",
              " 2017,\n",
              " 2018,\n",
              " 2019,\n",
              " 2020,\n",
              " 2021}"
            ]
          },
          "metadata": {},
          "execution_count": 27
        }
      ]
    },
    {
      "cell_type": "code",
      "source": [
        "len(set(data['Year']))"
      ],
      "metadata": {
        "colab": {
          "base_uri": "https://localhost:8080/"
        },
        "id": "s0Jp5UZ-nvx5",
        "outputId": "966aeedc-e7e3-478f-f7d1-a634c8618a62"
      },
      "execution_count": null,
      "outputs": [
        {
          "output_type": "execute_result",
          "data": {
            "text/plain": [
              "272"
            ]
          },
          "metadata": {},
          "execution_count": 29
        }
      ]
    },
    {
      "cell_type": "code",
      "source": [
        "max(set(data['Year']))"
      ],
      "metadata": {
        "colab": {
          "base_uri": "https://localhost:8080/"
        },
        "id": "zIoBh5hIoIBS",
        "outputId": "657d6084-ced5-4501-9272-d8b2f713f78c"
      },
      "execution_count": null,
      "outputs": [
        {
          "output_type": "execute_result",
          "data": {
            "text/plain": [
              "2021"
            ]
          },
          "metadata": {},
          "execution_count": 30
        }
      ]
    },
    {
      "cell_type": "code",
      "source": [
        "min(set(data['Year']))"
      ],
      "metadata": {
        "colab": {
          "base_uri": "https://localhost:8080/"
        },
        "id": "eab9kk89oUGc",
        "outputId": "10ff194d-2970-45e0-b94c-101f57e7dc29"
      },
      "execution_count": null,
      "outputs": [
        {
          "output_type": "execute_result",
          "data": {
            "text/plain": [
              "1750"
            ]
          },
          "metadata": {},
          "execution_count": 31
        }
      ]
    }
  ],
  "metadata": {
    "colab": {
      "provenance": [],
      "toc_visible": true,
      "authorship_tag": "ABX9TyOsHnJuN5d76KKU8Jld3P5i",
      "include_colab_link": true
    },
    "kernelspec": {
      "display_name": "Python 3",
      "name": "python3"
    },
    "language_info": {
      "name": "python"
    }
  },
  "nbformat": 4,
  "nbformat_minor": 0
}